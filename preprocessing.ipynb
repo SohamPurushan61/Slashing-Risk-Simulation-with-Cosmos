{
 "cells": [
  {
   "cell_type": "code",
   "execution_count": 3,
   "metadata": {},
   "outputs": [
    {
     "name": "stdout",
     "output_type": "stream",
     "text": [
      "Total Validators fetched: 473\n",
      "Data saved to the output file\n"
     ]
    }
   ],
   "source": [
    "import requests\n",
    "import pandas as pandas\n",
    "\n",
    "base_url = \"https://cosmos-rest.publicnode.com\"\n",
    "\n",
    "signingInfo_Endpoint = f\"{base_url}/cosmos/slashing/v1beta1/signing_infos\"\n",
    "\n",
    "all_validators = []\n",
    "\n",
    "next_key = None\n",
    "\n",
    "while True:\n",
    "    params = {\"pagination.key\": next_key} if next_key else {}\n",
    "    response = requests.get(signingInfo_Endpoint, params=params)\n",
    "\n",
    "    data = response.json()\n",
    "\n",
    "    if \"info\" in data:\n",
    "        all_validators.extend(data[\"info\"])\n",
    "    else:\n",
    "        print(\"No Validator data Found.\")\n",
    "        break\n",
    "\n",
    "    next_key = data.get(\"pagination\", {}).get(\"next_key\", None)\n",
    "\n",
    "    if not next_key:\n",
    "        break\n",
    "\n",
    "print(f\"Total Validators fetched: {len(all_validators)}\")\n",
    "\n",
    "df = pandas.DataFrame(all_validators)\n",
    "\n",
    "output_file = \"cosmos_validator_signing_data.csv\"\n",
    "df.to_csv(output_file, index=False)\n",
    "\n",
    "print(f\"Data saved to the output file\")"
   ]
  },
  {
   "cell_type": "code",
   "execution_count": 5,
   "metadata": {},
   "outputs": [
    {
     "name": "stdout",
     "output_type": "stream",
     "text": [
      "Slashing parameters saved to cosmos_slashing_params.csv\n"
     ]
    }
   ],
   "source": [
    "# Endpoint for slashing parameters\n",
    "params_endpoint = f\"{base_url}/cosmos/slashing/v1beta1/params\"\n",
    "\n",
    "# Fetch the parameters\n",
    "response = requests.get(params_endpoint)\n",
    "params_data = response.json()\n",
    "\n",
    "params_df = pandas.DataFrame([params_data[\"params\"]])\n",
    "params_output_file = \"cosmos_slashing_params.csv\"\n",
    "params_df.to_csv(params_output_file, index=False)\n",
    "\n",
    "print(f\"Slashing parameters saved to {params_output_file}\")\n"
   ]
  },
  {
   "cell_type": "code",
   "execution_count": 6,
   "metadata": {},
   "outputs": [
    {
     "name": "stdout",
     "output_type": "stream",
     "text": [
      "Total Validators fetched: 565\n",
      "Data saved to the output file\n"
     ]
    }
   ],
   "source": [
    "validator_endpoint = f\"{base_url}/cosmos/staking/v1beta1/validators\"\n",
    "\n",
    "new_validators = []\n",
    "\n",
    "while True:\n",
    "    params = {\"pagination.key\": next_key} if next_key else {}\n",
    "    response = requests.get(validator_endpoint, params=params)\n",
    "\n",
    "    data = response.json()\n",
    "\n",
    "    if \"validators\" in data:\n",
    "        new_validators.extend(data[\"validators\"])\n",
    "    else:\n",
    "        print(\"No Validator data Found.\")\n",
    "        break\n",
    "\n",
    "    next_key = data.get(\"pagination\", {}).get(\"next_key\", None)\n",
    "\n",
    "    if not next_key:\n",
    "        break\n",
    "\n",
    "print(f\"Total Validators fetched: {len(new_validators)}\")\n",
    "\n",
    "df = pandas.DataFrame(new_validators)\n",
    "\n",
    "output_file = \"cosmos_validator_staking_data.csv\"\n",
    "df.to_csv(output_file, index=False)\n",
    "\n",
    "print(f\"Data saved to the output file\")\n"
   ]
  },
  {
   "cell_type": "code",
   "execution_count": 42,
   "metadata": {},
   "outputs": [
    {
     "name": "stdout",
     "output_type": "stream",
     "text": [
      "Data saved to the output file\n"
     ]
    }
   ],
   "source": [
    "import base64\n",
    "import hashlib\n",
    "from bech32 import bech32_encode, convertbits\n",
    "import ast\n",
    "\n",
    "sign_data = pandas.read_csv(\"cosmos_validator_signing_data.csv\")\n",
    "stakw_data = pandas.read_csv(\"cosmos_validator_staking_data.csv\")\n",
    "\n",
    "\n",
    "def derive_consensus_address(pubkey_str, prefix=\"cosmosvalcons\"):\n",
    "    try:\n",
    "        #print(f\"Processing pubkey_str: {pubkey_str}\")\n",
    "        pubkey_dict = ast.literal_eval(pubkey_str)\n",
    "        #print(f\"Parsed pubkey_dict: {pubkey_dict}\")\n",
    "        \n",
    "        pubkey_base64 = pubkey_dict['key']\n",
    "        #print(f\"Extracted pubkey_base64: {pubkey_base64}\")\n",
    "        \n",
    "        pubkey_bytes = base64.b64decode(pubkey_base64)\n",
    "        #print(f\"Decoded pubkey_bytes: {pubkey_bytes}\")\n",
    "        \n",
    "        sha256_hash = hashlib.sha256(pubkey_bytes).digest()\n",
    "        #print(f\"SHA-256 hash: {sha256_hash}\")\n",
    "        \n",
    "        address_bytes = sha256_hash[:20]\n",
    "        #print(f\"Address bytes: {address_bytes}\")\n",
    "        \n",
    "        address_bits = convertbits(address_bytes, 8, 5, True)\n",
    "        #print(f\"Converted address_bits: {address_bits}\")\n",
    "        if address_bits is None:\n",
    "            raise ValueError(\"Error converting address bytes to 5-bit words.\")\n",
    "        \n",
    "        cons_add = bech32_encode(prefix, address_bits)\n",
    "        #print(f\"Bech32 encoded address: {cons_add}\")\n",
    "        \n",
    "        return cons_add\n",
    "    except (KeyError, ValueError, SyntaxError) as e:\n",
    "        raise ValueError(f\"Error deriving consensus address: {e}\")\n",
    "\n",
    "\n",
    "#print(sign_data.columns)\n",
    "#print(stakw_data.columns)\n",
    "\n",
    "operator_addresses_stake_map = {\n",
    "    v[\"operator_address\"]: v[\"tokens\"] for v in stakw_data.to_dict(orient='records')\n",
    "}\n",
    "\n",
    "mapped_data = []\n",
    "\n",
    "for validator in stakw_data.to_dict(orient='records'):\n",
    "    opp_address = validator[\"operator_address\"]\n",
    "    try:\n",
    "        concensus_address = derive_consensus_address(validator[\"consensus_pubkey\"])\n",
    "        # psedu code: \n",
    "        # check if the concenus address is in the sign_data\n",
    "        # if yes, then add then the get the stake size of the corresponding operator address\n",
    "        # have an exception if there is an invalid address\n",
    "        # add the data to the mapped_data\n",
    "\n",
    "        if concensus_address in sign_data['address'].values:\n",
    "            stake_size = operator_addresses_stake_map.get(opp_address, 0)\n",
    "            mapped_data.append({\n",
    "                \"Consensus Address\": concensus_address,\n",
    "                \"Operator Address\": opp_address,\n",
    "                \"Stake Size\": stake_size\n",
    "            })\n",
    "    except Exception as e:\n",
    "        print(f\"Error in the processing {opp_address}: {e}\")\n",
    "\n",
    "mapped_df = pandas.DataFrame(mapped_data)\n",
    "\n",
    "output_file = \"cosmos_validator_mapped_data.csv\"\n",
    "mapped_df.to_csv(output_file, index=False)\n",
    "\n",
    "print(f\"Data saved to the output file\")"
   ]
  },
  {
   "cell_type": "code",
   "execution_count": 67,
   "metadata": {},
   "outputs": [
    {
     "ename": "KeyboardInterrupt",
     "evalue": "",
     "output_type": "error",
     "traceback": [
      "\u001b[0;31m---------------------------------------------------------------------------\u001b[0m",
      "\u001b[0;31mKeyboardInterrupt\u001b[0m                         Traceback (most recent call last)",
      "Cell \u001b[0;32mIn[67], line 6\u001b[0m\n\u001b[1;32m      2\u001b[0m \u001b[38;5;28;01mimport\u001b[39;00m \u001b[38;5;21;01mjson\u001b[39;00m\n\u001b[1;32m      4\u001b[0m rpc_url \u001b[38;5;241m=\u001b[39m \u001b[38;5;124m\"\u001b[39m\u001b[38;5;124mhttps://cosmoshub.validator.network:26657/status\u001b[39m\u001b[38;5;124m\"\u001b[39m\n\u001b[0;32m----> 6\u001b[0m reponse \u001b[38;5;241m=\u001b[39m requests\u001b[38;5;241m.\u001b[39mget(rpc_url)\n\u001b[1;32m      7\u001b[0m \u001b[38;5;28mprint\u001b[39m(reponse\u001b[38;5;241m.\u001b[39mtext)\n\u001b[1;32m      8\u001b[0m \u001b[38;5;28;01mif\u001b[39;00m response\u001b[38;5;241m.\u001b[39mstatus_code \u001b[38;5;241m==\u001b[39m \u001b[38;5;241m200\u001b[39m:\n",
      "File \u001b[0;32m/opt/anaconda3/lib/python3.12/site-packages/requests/api.py:73\u001b[0m, in \u001b[0;36mget\u001b[0;34m(url, params, **kwargs)\u001b[0m\n\u001b[1;32m     62\u001b[0m \u001b[38;5;28;01mdef\u001b[39;00m \u001b[38;5;21mget\u001b[39m(url, params\u001b[38;5;241m=\u001b[39m\u001b[38;5;28;01mNone\u001b[39;00m, \u001b[38;5;241m*\u001b[39m\u001b[38;5;241m*\u001b[39mkwargs):\n\u001b[1;32m     63\u001b[0m \u001b[38;5;250m    \u001b[39m\u001b[38;5;124mr\u001b[39m\u001b[38;5;124;03m\"\"\"Sends a GET request.\u001b[39;00m\n\u001b[1;32m     64\u001b[0m \n\u001b[1;32m     65\u001b[0m \u001b[38;5;124;03m    :param url: URL for the new :class:`Request` object.\u001b[39;00m\n\u001b[0;32m   (...)\u001b[0m\n\u001b[1;32m     70\u001b[0m \u001b[38;5;124;03m    :rtype: requests.Response\u001b[39;00m\n\u001b[1;32m     71\u001b[0m \u001b[38;5;124;03m    \"\"\"\u001b[39;00m\n\u001b[0;32m---> 73\u001b[0m     \u001b[38;5;28;01mreturn\u001b[39;00m request(\u001b[38;5;124m\"\u001b[39m\u001b[38;5;124mget\u001b[39m\u001b[38;5;124m\"\u001b[39m, url, params\u001b[38;5;241m=\u001b[39mparams, \u001b[38;5;241m*\u001b[39m\u001b[38;5;241m*\u001b[39mkwargs)\n",
      "File \u001b[0;32m/opt/anaconda3/lib/python3.12/site-packages/requests/api.py:59\u001b[0m, in \u001b[0;36mrequest\u001b[0;34m(method, url, **kwargs)\u001b[0m\n\u001b[1;32m     55\u001b[0m \u001b[38;5;66;03m# By using the 'with' statement we are sure the session is closed, thus we\u001b[39;00m\n\u001b[1;32m     56\u001b[0m \u001b[38;5;66;03m# avoid leaving sockets open which can trigger a ResourceWarning in some\u001b[39;00m\n\u001b[1;32m     57\u001b[0m \u001b[38;5;66;03m# cases, and look like a memory leak in others.\u001b[39;00m\n\u001b[1;32m     58\u001b[0m \u001b[38;5;28;01mwith\u001b[39;00m sessions\u001b[38;5;241m.\u001b[39mSession() \u001b[38;5;28;01mas\u001b[39;00m session:\n\u001b[0;32m---> 59\u001b[0m     \u001b[38;5;28;01mreturn\u001b[39;00m session\u001b[38;5;241m.\u001b[39mrequest(method\u001b[38;5;241m=\u001b[39mmethod, url\u001b[38;5;241m=\u001b[39murl, \u001b[38;5;241m*\u001b[39m\u001b[38;5;241m*\u001b[39mkwargs)\n",
      "File \u001b[0;32m/opt/anaconda3/lib/python3.12/site-packages/requests/sessions.py:589\u001b[0m, in \u001b[0;36mSession.request\u001b[0;34m(self, method, url, params, data, headers, cookies, files, auth, timeout, allow_redirects, proxies, hooks, stream, verify, cert, json)\u001b[0m\n\u001b[1;32m    584\u001b[0m send_kwargs \u001b[38;5;241m=\u001b[39m {\n\u001b[1;32m    585\u001b[0m     \u001b[38;5;124m\"\u001b[39m\u001b[38;5;124mtimeout\u001b[39m\u001b[38;5;124m\"\u001b[39m: timeout,\n\u001b[1;32m    586\u001b[0m     \u001b[38;5;124m\"\u001b[39m\u001b[38;5;124mallow_redirects\u001b[39m\u001b[38;5;124m\"\u001b[39m: allow_redirects,\n\u001b[1;32m    587\u001b[0m }\n\u001b[1;32m    588\u001b[0m send_kwargs\u001b[38;5;241m.\u001b[39mupdate(settings)\n\u001b[0;32m--> 589\u001b[0m resp \u001b[38;5;241m=\u001b[39m \u001b[38;5;28mself\u001b[39m\u001b[38;5;241m.\u001b[39msend(prep, \u001b[38;5;241m*\u001b[39m\u001b[38;5;241m*\u001b[39msend_kwargs)\n\u001b[1;32m    591\u001b[0m \u001b[38;5;28;01mreturn\u001b[39;00m resp\n",
      "File \u001b[0;32m/opt/anaconda3/lib/python3.12/site-packages/requests/sessions.py:703\u001b[0m, in \u001b[0;36mSession.send\u001b[0;34m(self, request, **kwargs)\u001b[0m\n\u001b[1;32m    700\u001b[0m start \u001b[38;5;241m=\u001b[39m preferred_clock()\n\u001b[1;32m    702\u001b[0m \u001b[38;5;66;03m# Send the request\u001b[39;00m\n\u001b[0;32m--> 703\u001b[0m r \u001b[38;5;241m=\u001b[39m adapter\u001b[38;5;241m.\u001b[39msend(request, \u001b[38;5;241m*\u001b[39m\u001b[38;5;241m*\u001b[39mkwargs)\n\u001b[1;32m    705\u001b[0m \u001b[38;5;66;03m# Total elapsed time of the request (approximately)\u001b[39;00m\n\u001b[1;32m    706\u001b[0m elapsed \u001b[38;5;241m=\u001b[39m preferred_clock() \u001b[38;5;241m-\u001b[39m start\n",
      "File \u001b[0;32m/opt/anaconda3/lib/python3.12/site-packages/requests/adapters.py:667\u001b[0m, in \u001b[0;36mHTTPAdapter.send\u001b[0;34m(self, request, stream, timeout, verify, cert, proxies)\u001b[0m\n\u001b[1;32m    664\u001b[0m     timeout \u001b[38;5;241m=\u001b[39m TimeoutSauce(connect\u001b[38;5;241m=\u001b[39mtimeout, read\u001b[38;5;241m=\u001b[39mtimeout)\n\u001b[1;32m    666\u001b[0m \u001b[38;5;28;01mtry\u001b[39;00m:\n\u001b[0;32m--> 667\u001b[0m     resp \u001b[38;5;241m=\u001b[39m conn\u001b[38;5;241m.\u001b[39murlopen(\n\u001b[1;32m    668\u001b[0m         method\u001b[38;5;241m=\u001b[39mrequest\u001b[38;5;241m.\u001b[39mmethod,\n\u001b[1;32m    669\u001b[0m         url\u001b[38;5;241m=\u001b[39murl,\n\u001b[1;32m    670\u001b[0m         body\u001b[38;5;241m=\u001b[39mrequest\u001b[38;5;241m.\u001b[39mbody,\n\u001b[1;32m    671\u001b[0m         headers\u001b[38;5;241m=\u001b[39mrequest\u001b[38;5;241m.\u001b[39mheaders,\n\u001b[1;32m    672\u001b[0m         redirect\u001b[38;5;241m=\u001b[39m\u001b[38;5;28;01mFalse\u001b[39;00m,\n\u001b[1;32m    673\u001b[0m         assert_same_host\u001b[38;5;241m=\u001b[39m\u001b[38;5;28;01mFalse\u001b[39;00m,\n\u001b[1;32m    674\u001b[0m         preload_content\u001b[38;5;241m=\u001b[39m\u001b[38;5;28;01mFalse\u001b[39;00m,\n\u001b[1;32m    675\u001b[0m         decode_content\u001b[38;5;241m=\u001b[39m\u001b[38;5;28;01mFalse\u001b[39;00m,\n\u001b[1;32m    676\u001b[0m         retries\u001b[38;5;241m=\u001b[39m\u001b[38;5;28mself\u001b[39m\u001b[38;5;241m.\u001b[39mmax_retries,\n\u001b[1;32m    677\u001b[0m         timeout\u001b[38;5;241m=\u001b[39mtimeout,\n\u001b[1;32m    678\u001b[0m         chunked\u001b[38;5;241m=\u001b[39mchunked,\n\u001b[1;32m    679\u001b[0m     )\n\u001b[1;32m    681\u001b[0m \u001b[38;5;28;01mexcept\u001b[39;00m (ProtocolError, \u001b[38;5;167;01mOSError\u001b[39;00m) \u001b[38;5;28;01mas\u001b[39;00m err:\n\u001b[1;32m    682\u001b[0m     \u001b[38;5;28;01mraise\u001b[39;00m \u001b[38;5;167;01mConnectionError\u001b[39;00m(err, request\u001b[38;5;241m=\u001b[39mrequest)\n",
      "File \u001b[0;32m/opt/anaconda3/lib/python3.12/site-packages/urllib3/connectionpool.py:789\u001b[0m, in \u001b[0;36mHTTPConnectionPool.urlopen\u001b[0;34m(self, method, url, body, headers, retries, redirect, assert_same_host, timeout, pool_timeout, release_conn, chunked, body_pos, preload_content, decode_content, **response_kw)\u001b[0m\n\u001b[1;32m    786\u001b[0m response_conn \u001b[38;5;241m=\u001b[39m conn \u001b[38;5;28;01mif\u001b[39;00m \u001b[38;5;129;01mnot\u001b[39;00m release_conn \u001b[38;5;28;01melse\u001b[39;00m \u001b[38;5;28;01mNone\u001b[39;00m\n\u001b[1;32m    788\u001b[0m \u001b[38;5;66;03m# Make the request on the HTTPConnection object\u001b[39;00m\n\u001b[0;32m--> 789\u001b[0m response \u001b[38;5;241m=\u001b[39m \u001b[38;5;28mself\u001b[39m\u001b[38;5;241m.\u001b[39m_make_request(\n\u001b[1;32m    790\u001b[0m     conn,\n\u001b[1;32m    791\u001b[0m     method,\n\u001b[1;32m    792\u001b[0m     url,\n\u001b[1;32m    793\u001b[0m     timeout\u001b[38;5;241m=\u001b[39mtimeout_obj,\n\u001b[1;32m    794\u001b[0m     body\u001b[38;5;241m=\u001b[39mbody,\n\u001b[1;32m    795\u001b[0m     headers\u001b[38;5;241m=\u001b[39mheaders,\n\u001b[1;32m    796\u001b[0m     chunked\u001b[38;5;241m=\u001b[39mchunked,\n\u001b[1;32m    797\u001b[0m     retries\u001b[38;5;241m=\u001b[39mretries,\n\u001b[1;32m    798\u001b[0m     response_conn\u001b[38;5;241m=\u001b[39mresponse_conn,\n\u001b[1;32m    799\u001b[0m     preload_content\u001b[38;5;241m=\u001b[39mpreload_content,\n\u001b[1;32m    800\u001b[0m     decode_content\u001b[38;5;241m=\u001b[39mdecode_content,\n\u001b[1;32m    801\u001b[0m     \u001b[38;5;241m*\u001b[39m\u001b[38;5;241m*\u001b[39mresponse_kw,\n\u001b[1;32m    802\u001b[0m )\n\u001b[1;32m    804\u001b[0m \u001b[38;5;66;03m# Everything went great!\u001b[39;00m\n\u001b[1;32m    805\u001b[0m clean_exit \u001b[38;5;241m=\u001b[39m \u001b[38;5;28;01mTrue\u001b[39;00m\n",
      "File \u001b[0;32m/opt/anaconda3/lib/python3.12/site-packages/urllib3/connectionpool.py:466\u001b[0m, in \u001b[0;36mHTTPConnectionPool._make_request\u001b[0;34m(self, conn, method, url, body, headers, retries, timeout, chunked, response_conn, preload_content, decode_content, enforce_content_length)\u001b[0m\n\u001b[1;32m    463\u001b[0m \u001b[38;5;28;01mtry\u001b[39;00m:\n\u001b[1;32m    464\u001b[0m     \u001b[38;5;66;03m# Trigger any extra validation we need to do.\u001b[39;00m\n\u001b[1;32m    465\u001b[0m     \u001b[38;5;28;01mtry\u001b[39;00m:\n\u001b[0;32m--> 466\u001b[0m         \u001b[38;5;28mself\u001b[39m\u001b[38;5;241m.\u001b[39m_validate_conn(conn)\n\u001b[1;32m    467\u001b[0m     \u001b[38;5;28;01mexcept\u001b[39;00m (SocketTimeout, BaseSSLError) \u001b[38;5;28;01mas\u001b[39;00m e:\n\u001b[1;32m    468\u001b[0m         \u001b[38;5;28mself\u001b[39m\u001b[38;5;241m.\u001b[39m_raise_timeout(err\u001b[38;5;241m=\u001b[39me, url\u001b[38;5;241m=\u001b[39murl, timeout_value\u001b[38;5;241m=\u001b[39mconn\u001b[38;5;241m.\u001b[39mtimeout)\n",
      "File \u001b[0;32m/opt/anaconda3/lib/python3.12/site-packages/urllib3/connectionpool.py:1095\u001b[0m, in \u001b[0;36mHTTPSConnectionPool._validate_conn\u001b[0;34m(self, conn)\u001b[0m\n\u001b[1;32m   1093\u001b[0m \u001b[38;5;66;03m# Force connect early to allow us to validate the connection.\u001b[39;00m\n\u001b[1;32m   1094\u001b[0m \u001b[38;5;28;01mif\u001b[39;00m conn\u001b[38;5;241m.\u001b[39mis_closed:\n\u001b[0;32m-> 1095\u001b[0m     conn\u001b[38;5;241m.\u001b[39mconnect()\n\u001b[1;32m   1097\u001b[0m \u001b[38;5;66;03m# TODO revise this, see https://github.com/urllib3/urllib3/issues/2791\u001b[39;00m\n\u001b[1;32m   1098\u001b[0m \u001b[38;5;28;01mif\u001b[39;00m \u001b[38;5;129;01mnot\u001b[39;00m conn\u001b[38;5;241m.\u001b[39mis_verified \u001b[38;5;129;01mand\u001b[39;00m \u001b[38;5;129;01mnot\u001b[39;00m conn\u001b[38;5;241m.\u001b[39mproxy_is_verified:\n",
      "File \u001b[0;32m/opt/anaconda3/lib/python3.12/site-packages/urllib3/connection.py:693\u001b[0m, in \u001b[0;36mHTTPSConnection.connect\u001b[0;34m(self)\u001b[0m\n\u001b[1;32m    691\u001b[0m \u001b[38;5;28;01mtry\u001b[39;00m:\n\u001b[1;32m    692\u001b[0m     sock: socket\u001b[38;5;241m.\u001b[39msocket \u001b[38;5;241m|\u001b[39m ssl\u001b[38;5;241m.\u001b[39mSSLSocket\n\u001b[0;32m--> 693\u001b[0m     \u001b[38;5;28mself\u001b[39m\u001b[38;5;241m.\u001b[39msock \u001b[38;5;241m=\u001b[39m sock \u001b[38;5;241m=\u001b[39m \u001b[38;5;28mself\u001b[39m\u001b[38;5;241m.\u001b[39m_new_conn()\n\u001b[1;32m    694\u001b[0m     server_hostname: \u001b[38;5;28mstr\u001b[39m \u001b[38;5;241m=\u001b[39m \u001b[38;5;28mself\u001b[39m\u001b[38;5;241m.\u001b[39mhost\n\u001b[1;32m    695\u001b[0m     tls_in_tls \u001b[38;5;241m=\u001b[39m \u001b[38;5;28;01mFalse\u001b[39;00m\n",
      "File \u001b[0;32m/opt/anaconda3/lib/python3.12/site-packages/urllib3/connection.py:199\u001b[0m, in \u001b[0;36mHTTPConnection._new_conn\u001b[0;34m(self)\u001b[0m\n\u001b[1;32m    194\u001b[0m \u001b[38;5;250m\u001b[39m\u001b[38;5;124;03m\"\"\"Establish a socket connection and set nodelay settings on it.\u001b[39;00m\n\u001b[1;32m    195\u001b[0m \n\u001b[1;32m    196\u001b[0m \u001b[38;5;124;03m:return: New socket connection.\u001b[39;00m\n\u001b[1;32m    197\u001b[0m \u001b[38;5;124;03m\"\"\"\u001b[39;00m\n\u001b[1;32m    198\u001b[0m \u001b[38;5;28;01mtry\u001b[39;00m:\n\u001b[0;32m--> 199\u001b[0m     sock \u001b[38;5;241m=\u001b[39m connection\u001b[38;5;241m.\u001b[39mcreate_connection(\n\u001b[1;32m    200\u001b[0m         (\u001b[38;5;28mself\u001b[39m\u001b[38;5;241m.\u001b[39m_dns_host, \u001b[38;5;28mself\u001b[39m\u001b[38;5;241m.\u001b[39mport),\n\u001b[1;32m    201\u001b[0m         \u001b[38;5;28mself\u001b[39m\u001b[38;5;241m.\u001b[39mtimeout,\n\u001b[1;32m    202\u001b[0m         source_address\u001b[38;5;241m=\u001b[39m\u001b[38;5;28mself\u001b[39m\u001b[38;5;241m.\u001b[39msource_address,\n\u001b[1;32m    203\u001b[0m         socket_options\u001b[38;5;241m=\u001b[39m\u001b[38;5;28mself\u001b[39m\u001b[38;5;241m.\u001b[39msocket_options,\n\u001b[1;32m    204\u001b[0m     )\n\u001b[1;32m    205\u001b[0m \u001b[38;5;28;01mexcept\u001b[39;00m socket\u001b[38;5;241m.\u001b[39mgaierror \u001b[38;5;28;01mas\u001b[39;00m e:\n\u001b[1;32m    206\u001b[0m     \u001b[38;5;28;01mraise\u001b[39;00m NameResolutionError(\u001b[38;5;28mself\u001b[39m\u001b[38;5;241m.\u001b[39mhost, \u001b[38;5;28mself\u001b[39m, e) \u001b[38;5;28;01mfrom\u001b[39;00m \u001b[38;5;21;01me\u001b[39;00m\n",
      "File \u001b[0;32m/opt/anaconda3/lib/python3.12/site-packages/urllib3/util/connection.py:73\u001b[0m, in \u001b[0;36mcreate_connection\u001b[0;34m(address, timeout, source_address, socket_options)\u001b[0m\n\u001b[1;32m     71\u001b[0m \u001b[38;5;28;01mif\u001b[39;00m source_address:\n\u001b[1;32m     72\u001b[0m     sock\u001b[38;5;241m.\u001b[39mbind(source_address)\n\u001b[0;32m---> 73\u001b[0m sock\u001b[38;5;241m.\u001b[39mconnect(sa)\n\u001b[1;32m     74\u001b[0m \u001b[38;5;66;03m# Break explicitly a reference cycle\u001b[39;00m\n\u001b[1;32m     75\u001b[0m err \u001b[38;5;241m=\u001b[39m \u001b[38;5;28;01mNone\u001b[39;00m\n",
      "\u001b[0;31mKeyboardInterrupt\u001b[0m: "
     ]
    }
   ],
   "source": [
    "import requests\n",
    "import json\n",
    "\n",
    "rpc_url = \"https://cosmoshub.validator.network:26657/status\"\n",
    "\n",
    "reponse = requests.get(rpc_url)\n",
    "print(reponse.text)\n",
    "if response.status_code == 200:\n",
    "    net_info = response.json()\n",
    "else:\n",
    "    print(\"Error fetching net info: {response.status_code}\")\n",
    "    net_info = None\n",
    "\n",
    "rpc_url1 = \"https://rpc.cosmos.network/status\"\n",
    "response1 = requests.get(rpc_url1)\n",
    "print(response1.text)\n"
   ]
  },
  {
   "cell_type": "code",
   "execution_count": 71,
   "metadata": {},
   "outputs": [
    {
     "name": "stdout",
     "output_type": "stream",
     "text": [
      "Successfully fetched net_info from RPC endpoint.\n",
      "net_info has been saved to net_info.json successfully.\n",
      "Peer IPs: ['0.0.0.0', '0.0.0.0', '0.0.0.0', '0.0.0.0', '0.0.0.0', '0.0.0.0', '0.0.0.0', '0.0.0.0', '0.0.0.0', '0.0.0.0', '0.0.0.0', '0.0.0.0', '0.0.0.0', '0.0.0.0', '0.0.0.0', '0.0.0.0', '0.0.0.0', '0.0.0.0', '0.0.0.0', '0.0.0.0', '0.0.0.0', '0.0.0.0', '0.0.0.0', '0.0.0.0', '0.0.0.0', '0.0.0.0', '0.0.0.0', '0.0.0.0', '0.0.0.0', '0.0.0.0', '0.0.0.0', '0.0.0.0', '0.0.0.0', '0.0.0.0', '0.0.0.0', '0.0.0.0', '0.0.0.0', '0.0.0.0', '0.0.0.0', '0.0.0.0', '0.0.0.0', '0.0.0.0', '0.0.0.0', '0.0.0.0', '0.0.0.0', '0.0.0.0', '0.0.0.0', '0.0.0.0', '0.0.0.0', '0.0.0.0', '0.0.0.0', '0.0.0.0', '0.0.0.0', '0.0.0.0', '0.0.0.0', '0.0.0.0', '0.0.0.0', '0.0.0.0', '0.0.0.0', '0.0.0.0', '0.0.0.0', '0.0.0.0', '0.0.0.0', '0.0.0.0', '0.0.0.0', '0.0.0.0', '0.0.0.0', '0.0.0.0', '0.0.0.0', '0.0.0.0', '0.0.0.0', '0.0.0.0', '0.0.0.0', '0.0.0.0', '0.0.0.0', '0.0.0.0', '0.0.0.0', '0.0.0.0', '0.0.0.0', '0.0.0.0', '0.0.0.0', '0.0.0.0', '0.0.0.0', '0.0.0.0', '0.0.0.0', '0.0.0.0', '0.0.0.0', '0.0.0.0', '0.0.0.0', '0.0.0.0', '0.0.0.0', '0.0.0.0', '0.0.0.0', '0.0.0.0', '0.0.0.0', '0.0.0.0', '0.0.0.0', '0.0.0.0', '0.0.0.0', '0.0.0.0']\n",
      "Latencies: [None, None, None, None, None, None, None, None, None, None, None, None, None, None, None, None, None, None, None, None, None, None, None, None, None, None, None, None, None, None, None, None, None, None, None, None, None, None, None, None, None, None, None, None, None, None, None, None, None, None, None, None, None, None, None, None, None, None, None, None, None, None, None, None, None, None, None, None, None, None, None, None, None, None, None, None, None, None, None, None, None, None, None, None, None, None, None, None, None, None, None, None, None, None, None, None, None, None, None, None]\n"
     ]
    },
    {
     "ename": "TypeError",
     "evalue": "unsupported operand type(s) for +: 'int' and 'NoneType'",
     "output_type": "error",
     "traceback": [
      "\u001b[0;31m---------------------------------------------------------------------------\u001b[0m",
      "\u001b[0;31mTypeError\u001b[0m                                 Traceback (most recent call last)",
      "Cell \u001b[0;32mIn[71], line 52\u001b[0m\n\u001b[1;32m     50\u001b[0m latencies \u001b[38;5;241m=\u001b[39m [measure_latency(ip) \u001b[38;5;28;01mfor\u001b[39;00m ip \u001b[38;5;129;01min\u001b[39;00m peer_ips \u001b[38;5;28;01mif\u001b[39;00m ip]\n\u001b[1;32m     51\u001b[0m \u001b[38;5;28mprint\u001b[39m(\u001b[38;5;124m\"\u001b[39m\u001b[38;5;124mLatencies:\u001b[39m\u001b[38;5;124m\"\u001b[39m, latencies)\n\u001b[0;32m---> 52\u001b[0m general_latency \u001b[38;5;241m=\u001b[39m \u001b[38;5;28msum\u001b[39m(latencies) \u001b[38;5;241m/\u001b[39m \u001b[38;5;28mlen\u001b[39m(latencies) \u001b[38;5;28;01mif\u001b[39;00m latencies \u001b[38;5;28;01melse\u001b[39;00m \u001b[38;5;28;01mNone\u001b[39;00m\n\u001b[1;32m     53\u001b[0m \u001b[38;5;28mprint\u001b[39m(\u001b[38;5;124mf\u001b[39m\u001b[38;5;124m\"\u001b[39m\u001b[38;5;124mGeneral Network Latency: \u001b[39m\u001b[38;5;132;01m{\u001b[39;00mgeneral_latency\u001b[38;5;132;01m}\u001b[39;00m\u001b[38;5;124m ms\u001b[39m\u001b[38;5;124m\"\u001b[39m)\n",
      "\u001b[0;31mTypeError\u001b[0m: unsupported operand type(s) for +: 'int' and 'NoneType'"
     ]
    }
   ],
   "source": [
    "import requests\n",
    "import json \n",
    "\n",
    "rpc_url = \"https://cosmos-rpc.publicnode.com:443/net_info\"\n",
    "\n",
    "response = requests.get(rpc_url)\n",
    "\n",
    "if response.status_code == 200:\n",
    "    net_info = response.json()  \n",
    "    print(\"Successfully fetched net_info from RPC endpoint.\")\n",
    "    \n",
    "    json_file_path = \"net_info.json\"\n",
    "    \n",
    "    try:\n",
    "        with open(json_file_path, 'w') as json_file:\n",
    "            json.dump(net_info, json_file, indent=4)\n",
    "        print(f\"net_info has been saved to {json_file_path} successfully.\")\n",
    "    except Exception as e:\n",
    "        print(f\"An error occurred while saving JSON to file: {e}\")\n",
    "else:\n",
    "    print(f\"Error: Received status code {response.status_code}\")\n",
    "    print(\"Response Text:\", response.text)\n",
    "\n",
    "if net_info:\n",
    "    peers = net_info.get(\"result\", {}).get(\"peers\", [])\n",
    "    peer_ips = [peer.get(\"remote_ip\").split(\":\")[0] for peer in peers]  # Extract IP without port\n",
    "    print(\"Peer IPs:\", peer_ips)\n",
    "\n",
    "import subprocess\n",
    "\n",
    "def measure_latency(ip):\n",
    "    try:\n",
    "        result = subprocess.run([\"ping\", \"-c\", \"3\", ip], capture_output=True, text=True)\n",
    "        output = result.stdout\n",
    "        # Extract the average RTT from the ping output\n",
    "        for line in output.split(\"\\n\"):\n",
    "            if \"rtt\" in line:\n",
    "                avg_rtt = float(line.split(\"/\")[4])  # Extract average RTT\n",
    "                return avg_rtt\n",
    "    except Exception as e:\n",
    "        print(f\"Error pinging {ip}: {e}\")\n",
    "    return None\n",
    "\n",
    "latencies = [measure_latency(ip) for ip in peer_ips if ip]\n",
    "print(\"Latencies:\", latencies)\n",
    "general_latency = sum(latencies) / len(latencies) if latencies else None\n",
    "print(f\"General Network Latency: {general_latency} ms\")\n"
   ]
  },
  {
   "cell_type": "code",
   "execution_count": 78,
   "metadata": {},
   "outputs": [
    {
     "name": "stdout",
     "output_type": "stream",
     "text": [
      "Average Latency: 0.76 seconds\n"
     ]
    }
   ],
   "source": [
    "import requests\n",
    "import time\n",
    "\n",
    "rpc_nodes = [\n",
    "   \"https://cosmos-rpc.publicnode.com:443\",\n",
    "   \"https://cosmoshub.rpc.stakin-nodes.com/\",\n",
    "   \"https://cosmos-hub.drpc.org/\",\n",
    "   \"https://go.getblock.io/55aae677e66541c4a47741aa201a4b08\",\n",
    "   \"https://cosmos.blockpi.network/rpc/v1/public\",\n",
    "   \"https://cosmos-rpc.polkachu.com\",\n",
    "]\n",
    "\n",
    "latencies = []\n",
    "\n",
    "for node in rpc_nodes:\n",
    "    start_time = time.time()\n",
    "    try:\n",
    "        response = requests.get(f\"{node}/net_info\", timeout=5)\n",
    "        if response.status_code == 200:\n",
    "            latencies.append(time.time() - start_time)\n",
    "        else:\n",
    "            print(f\"Error from {node}: {response.status_code}\")\n",
    "    except requests.exceptions.RequestException as e:\n",
    "        print(f\"Error connecting to {node}: {e}\")\n",
    "\n",
    "if latencies:\n",
    "    avg_latency = sum(latencies) / len(latencies)\n",
    "    print(f\"Average Latency: {avg_latency:.2f} seconds\")\n",
    "else:\n",
    "    print(\"No valid latencies collected.\")\n"
   ]
  },
  {
   "cell_type": "code",
   "execution_count": 79,
   "metadata": {},
   "outputs": [
    {
     "name": "stdout",
     "output_type": "stream",
     "text": [
      "Successfully fetched net_info from RPC endpoint.\n",
      "net_info has been saved to net_info1.json successfully.\n"
     ]
    }
   ],
   "source": [
    "import requests\n",
    "import json  \n",
    "\n",
    "rpc_url = \"https://cosmoshub.rpc.stakin-nodes.com/net_info\"\n",
    "\n",
    "response = requests.get(rpc_url)\n",
    "\n",
    "if response.status_code == 200:\n",
    "    net_info = response.json()  # Parse the JSON response\n",
    "    print(\"Successfully fetched net_info from RPC endpoint.\")\n",
    "    \n",
    "    json_file_path = \"net_info1.json\"\n",
    "    \n",
    "    try:\n",
    "        with open(json_file_path, 'w') as json_file:\n",
    "            json.dump(net_info, json_file, indent=4)\n",
    "        print(f\"net_info has been saved to {json_file_path} successfully.\")\n",
    "    except Exception as e:\n",
    "        print(f\"An error occurred while saving JSON to file: {e}\")\n",
    "else:\n",
    "    print(f\"Error: Received status code {response.status_code}\")\n",
    "    print(\"Response Text:\", response.text)"
   ]
  },
  {
   "cell_type": "markdown",
   "metadata": {},
   "source": []
  },
  {
   "cell_type": "code",
   "execution_count": 80,
   "metadata": {},
   "outputs": [
    {
     "name": "stdout",
     "output_type": "stream",
     "text": [
      "Error connecting to https://cosmos-hub.drpc.org/: Expecting value: line 1 column 1 (char 0)\n",
      "Net info from go_getblock_io55aae677e66541c4a47741aa201a4b08 saved to netInfoJsons/net_info_go_getblock_io55aae677e66541c4a47741aa201a4b08.json\n",
      "Net info from cosmos_blockpi_networkrpcv1public saved to netInfoJsons/net_info_cosmos_blockpi_networkrpcv1public.json\n",
      "Net info from cosmos-rpc_polkachu_com saved to netInfoJsons/net_info_cosmos-rpc_polkachu_com.json\n"
     ]
    }
   ],
   "source": [
    "import requests\n",
    "import time\n",
    "import os\n",
    "import json\n",
    "\n",
    "public_nodes = [\n",
    "   \"https://cosmos-hub.drpc.org/\",\n",
    "   \"https://go.getblock.io/55aae677e66541c4a47741aa201a4b08\",\n",
    "   \"https://cosmos.blockpi.network/rpc/v1/public\",\n",
    "   \"https://cosmos-rpc.polkachu.com\",\n",
    "]\n",
    "\n",
    "output_folder = \"netInfoJsons\"\n",
    "\n",
    "for n in public_nodes:\n",
    "    try:\n",
    "        response = requests.get(f\"{n}/net_info\", timeout=5)\n",
    "\n",
    "        if response.status_code == 200:\n",
    "            net_info = response.json()\n",
    "            node_name = n.replace(\"https://\", \"\").replace(\"/\", \"\").replace(\".\", \"_\")\n",
    "            file_path = os.path.join(output_folder, f\"net_info_{node_name}.json\")\n",
    "\n",
    "            with open(file_path, 'w') as json_file:\n",
    "                json.dump(net_info, json_file, indent=4)\n",
    "            print(f\"Net info from {node_name} saved to {file_path}\")\n",
    "        else:\n",
    "            print(f\"Error from {n}: {response.status_code} from {n}\")\n",
    "    except requests.exceptions.RequestException as e:\n",
    "        print(f\"Error connecting to {n}: {e}\")"
   ]
  },
  {
   "cell_type": "code",
   "execution_count": 81,
   "metadata": {},
   "outputs": [
    {
     "name": "stdout",
     "output_type": "stream",
     "text": [
      "CSV file created: aggregated_node_metrics.csv\n"
     ]
    }
   ],
   "source": [
    "import csv\n",
    "import json\n",
    "import glob\n",
    "\n",
    "columns = [\n",
    "    \"Node_Moniker\", \"is_outbound\",\n",
    "    # SendMonitor Metrics\n",
    "    \"Send_InstRate\", \"Send_CurRate\", \"Send_AvgRate\", \"Send_PeakRate\", \"Send_IdleTime\", \"Send_BytesTransferred\",\n",
    "    # RecvMonitor Metrics\n",
    "    \"Recv_InstRate\", \"Recv_CurRate\", \"Recv_AvgRate\", \"Recv_PeakRate\", \"Recv_IdleTime\", \"Recv_BytesTransferred\",\n",
    "    \"TotalConnectionTime\"\n",
    "]\n",
    "\n",
    "data_rows = []  \n",
    "json_files = glob.glob(\"netInfoJsons/*.json\")\n",
    "\n",
    "for file in json_files:\n",
    "    with open(file_path, \"r\") as file:\n",
    "        json_data = json.load(file)\n",
    "        peers = json_data.get(\"result\", {}).get(\"peers\", [])\n",
    "\n",
    "        for peer in peers:\n",
    "            node_info = peer.get(\"node_info\", {})\n",
    "\n",
    "            connection_status = peer.get(\"connection_status\", {})\n",
    "            send_monitor = connection_status.get(\"SendMonitor\", {})\n",
    "            recv_monitor = connection_status.get(\"RecvMonitor\", {})\n",
    "\n",
    "            # Extract metrics\n",
    "            moniker = node_info.get(\"moniker\", \"Unknown Node\")\n",
    "            is_outbound = peer.get(\"is_outbound\", False)\n",
    "            \n",
    "            # SendMonitor Metrics\n",
    "            send_inst_rate = send_monitor.get(\"InstRate\", None)\n",
    "            send_cur_rate = send_monitor.get(\"CurRate\", None)\n",
    "            send_avg_rate = send_monitor.get(\"AvgRate\", None)\n",
    "            send_peak_rate = send_monitor.get(\"PeakRate\", None)\n",
    "            send_idle_time = send_monitor.get(\"Idle\", None)\n",
    "            send_bytes_transferred = send_monitor.get(\"Bytes\", None)\n",
    "            \n",
    "            # RecvMonitor Metrics\n",
    "            recv_inst_rate = recv_monitor.get(\"InstRate\", None)\n",
    "            recv_cur_rate = recv_monitor.get(\"CurRate\", None)\n",
    "            recv_avg_rate = recv_monitor.get(\"AvgRate\", None)\n",
    "            recv_peak_rate = recv_monitor.get(\"PeakRate\", None)\n",
    "            recv_idle_time = recv_monitor.get(\"Idle\", None)\n",
    "            recv_bytes_transferred = recv_monitor.get(\"Bytes\", None)\n",
    "\n",
    "            total_connection_time = connection_status.get(\"Duration\", None)\n",
    "\n",
    "            data_rows.append([\n",
    "                moniker, is_outbound,\n",
    "                # SendMonitor Metrics\n",
    "                send_inst_rate, send_cur_rate, send_avg_rate, send_peak_rate, send_idle_time, send_bytes_transferred,\n",
    "                # RecvMonitor Metrics\n",
    "                recv_inst_rate, recv_cur_rate, recv_avg_rate, recv_peak_rate, recv_idle_time, recv_bytes_transferred,\n",
    "                total_connection_time\n",
    "            ])\n",
    "\n",
    "\n",
    "output_file = \"aggregated_node_metrics.csv\"\n",
    "with open(output_file, \"w\", newline=\"\") as csvfile:\n",
    "    writer = csv.writer(csvfile)\n",
    "    writer.writerow(columns)  \n",
    "    writer.writerows(data_rows)  \n",
    "\n",
    "print(f\"CSV file created: {output_file}\")\n"
   ]
  },
  {
   "cell_type": "code",
   "execution_count": 90,
   "metadata": {},
   "outputs": [
    {
     "name": "stderr",
     "output_type": "stream",
     "text": [
      "/var/folders/bj/z5bl6gqd4hs8551skd6745gh0000gn/T/ipykernel_12078/821677537.py:13: FutureWarning: Downcasting behavior in `replace` is deprecated and will be removed in a future version. To retain the old behavior, explicitly call `result.infer_objects(copy=False)`. To opt-in to the future behavior, set `pd.set_option('future.no_silent_downcasting', True)`\n",
      "  df['is_outbound'] = df['is_outbound'].replace({True: 1, False: 0})\n"
     ]
    },
    {
     "data": {
      "image/png": "[encoded data removed]",
      "text/plain": [
       "<Figure size 1000x600 with 1 Axes>"
      ]
     },
     "metadata": {},
     "output_type": "display_data"
    }
   ],
   "source": [
    "import pandas as pd\n",
    "from sklearn.cluster import KMeans\n",
    "from sklearn.preprocessing import StandardScaler\n",
    "from sklearn.decomposition import PCA\n",
    "import matplotlib.pyplot as plt\n",
    "from matplotlib.colors import ListedColormap\n",
    "import matplotlib.patches as mpatches\n",
    "\n",
    "\n",
    "data = pd.read_csv(\"aggregated_node_metrics.csv\")\n",
    "df = pd.DataFrame(data)\n",
    "\n",
    "df['is_outbound'] = df['is_outbound'].replace({True: 1, False: 0})\n",
    "\n",
    "scaler = StandardScaler()\n",
    "normalized_data = scaler.fit_transform(df.drop(columns=['Node_Moniker']))   \n",
    "\n",
    "pca = PCA(n_components=2)  \n",
    "reduced_data = pca.fit_transform(normalized_data)\n",
    "\n",
    "kmeans = KMeans(n_clusters=2, random_state=42)\n",
    "kmeans.fit(reduced_data)\n",
    "\n",
    "df['Cluster'] = kmeans.labels_\n",
    "\n",
    "cluster_colors = ['red', 'blue']\n",
    "cmap = ListedColormap(cluster_colors)\n",
    "\n",
    "plt.figure(figsize=(10, 6))\n",
    "plt.scatter(\n",
    "    reduced_data[:, 0],\n",
    "    reduced_data[:, 1],\n",
    "    c=df['Cluster'],\n",
    "    cmap=cmap,\n",
    "    s=100,\n",
    "    alpha=0.7\n",
    ")\n",
    "plt.scatter(\n",
    "    kmeans.cluster_centers_[:, 0],\n",
    "    kmeans.cluster_centers_[:, 1],\n",
    "    c='black',\n",
    "    marker='X',\n",
    "    s=200,\n",
    "    label='Centroids'\n",
    ")\n",
    "\n",
    "plt.title(\"K-Means Clustering with PCA (2D Visualization)\", fontsize=16)\n",
    "plt.xlabel(\"Principal Component 1\", fontsize=12)\n",
    "plt.ylabel(\"Principal Component 2\", fontsize=12)\n",
    "\n",
    "handles = [\n",
    "    mpatches.Patch(color=cluster_colors[0], label='Cluster 0'),\n",
    "    mpatches.Patch(color=cluster_colors[1], label='Cluster 1')\n",
    "\n",
    "]\n",
    "\n",
    "plt.legend(handles=handles, title='Clusters', fontsize=12, title_fontsize=14)\n",
    "plt.grid(True)\n",
    "plt.show()\n",
    "\n"
   ]
  }
 ],
 "metadata": {
  "kernelspec": {
   "display_name": "base",
   "language": "python",
   "name": "python3"
  },
  "language_info": {
   "codemirror_mode": {
    "name": "ipython",
    "version": 3
   },
   "file_extension": ".py",
   "mimetype": "text/x-python",
   "name": "python",
   "nbconvert_exporter": "python",
   "pygments_lexer": "ipython3",
   "version": "3.12.7"
  }
 },
 "nbformat": 4,
 "nbformat_minor": 2
}
